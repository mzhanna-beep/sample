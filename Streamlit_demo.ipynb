{
  "nbformat": 4,
  "nbformat_minor": 0,
  "metadata": {
    "colab": {
      "provenance": []
    },
    "kernelspec": {
      "name": "python3",
      "display_name": "Python 3"
    },
    "language_info": {
      "name": "python"
    }
  },
  "cells": [
    {
      "cell_type": "code",
      "execution_count": null,
      "metadata": {
        "collapsed": true,
        "id": "JtmSRX3ORAIC"
      },
      "outputs": [],
      "source": [
        "!pip install streamlit appdirs"
      ]
    },
    {
      "cell_type": "code",
      "source": [
        "%%writefile streamlit_app.py\n",
        "import streamlit as st\n",
        "import appdirs as ad\n",
        "ad.user_cache_dir = lambda *args: \"/tmp\"\n",
        "\n",
        "st.title(\"Welcome to Qimmatly Qogozlar Investment Co.\")\n",
        "st.write('This is the best investment company from UZB.')"
      ],
      "metadata": {
        "id": "3HY3XyhVRZXd"
      },
      "execution_count": null,
      "outputs": []
    },
    {
      "cell_type": "code",
      "source": [
        "!npm install -g localtunnel"
      ],
      "metadata": {
        "collapsed": true,
        "id": "VIwiazeYSdDy"
      },
      "execution_count": null,
      "outputs": []
    },
    {
      "cell_type": "code",
      "source": [
        "!curl ipv4.icanhazip.com"
      ],
      "metadata": {
        "collapsed": true,
        "id": "fufIQUeHSkv6"
      },
      "execution_count": null,
      "outputs": []
    },
    {
      "cell_type": "code",
      "source": [
        "!streamlit run streamlit_app.py & >./logs.txt & npx localtunnel --port 8501"
      ],
      "metadata": {
        "collapsed": true,
        "id": "YwV_IzozSrA8"
      },
      "execution_count": null,
      "outputs": []
    }
  ]
}